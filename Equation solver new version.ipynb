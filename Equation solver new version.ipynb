{
  "cells": [
    {
      "cell_type": "markdown",
      "metadata": {
        "id": "view-in-github",
        "colab_type": "text"
      },
      "source": [
        "<a href=\"https://colab.research.google.com/github/Gerson-del/python-projects/blob/main/examen_algebra.ipynb\" target=\"_parent\"><img src=\"https://colab.research.google.com/assets/colab-badge.svg\" alt=\"Open In Colab\"/></a>"
      ]
    },
    {
      "cell_type": "code",
      "execution_count": null,
      "metadata": {
        "colab": {
          "background_save": true,
          "base_uri": "https://localhost:8080/"
        },
        "id": "HVbv8mDvwP59",
        "outputId": "e41d038a-5bd3-4ebf-900e-b2bf5525b467"
      },
      "outputs": [
        {
          "name": "stdout",
          "output_type": "stream",
          "text": [
            "Ingresa tu ecuacion: \n",
            "-----------------\n",
            "ejemplo eq. 3x3: \n",
            "1x + 1y + 1z = 6\n",
            "2x + 0y + 2z = 1\n",
            "2x + 5y -1z = 2\n",
            "-----------------\n",
            "Es muy importante que no omita colocar el coeficiente cuando un termino esta siendo multiplicado por 1\n",
            "\n",
            "x = 1.00, y = 2.00, z = 3.00\n"
          ]
        }
      ],
      "source": [
        "import numpy as np\n",
        "from numpy.linalg import LinAlgError\n",
        "\n",
        "\n",
        "def add_list(eq):\n",
        "  \"\"\"\n",
        "  Esta funcion te separa los coeficientes y el valor independiente de tus ecuaciones\n",
        "  \"\"\"\n",
        "  list_separated = eq.split(\"=\")\n",
        "  values = []  # Inicializar la lista de valores\n",
        "  for i, side in enumerate(list_separated):\n",
        "      if side == list_separated[-1]:\n",
        "        ind_values = [int(side)]\n",
        "      else:\n",
        "        side = side.replace(\"-\", \"+ -\")\n",
        "        list_unfiltered = side.split(\"+\")\n",
        "        values += [int(\"\".join(c for c in item if c.isdigit() or c == \"-\") or 0) for item in list_unfiltered]\n",
        "\n",
        "  return values, ind_values[0]  # Devolver directamente el valor independiente, no una lista\n",
        "\n",
        "\n",
        "while True:\n",
        "\n",
        "  tipo_ecuaciones = input(\"Quieres resolver ecuaciones 2x2 (escribe 1) o 3x3 (escribe 2)? (apreta q para salir) \").lower()\n",
        "  if tipo_ecuaciones == \"q\":\n",
        "    break\n",
        "  else:\n",
        "    tipo_ecuaciones = int(tipo_ecuaciones)\n",
        "\n",
        "  print(\"Ingresa tu ecuacion: \")\n",
        "\n",
        "  try:\n",
        "      if tipo_ecuaciones == 1:\n",
        "          print(\"---------------\")\n",
        "          print(\"ejemplo eq. 2x2: \")\n",
        "          print(\"3x + 2y = -1\")\n",
        "          print(\"1x - 1y = -4\")\n",
        "          print(\"---------------\")\n",
        "\n",
        "          print(\"Es muy importante que no omita colocar el coeficiente cuando un termino esta siendo multiplicado por 1\")\n",
        "          print()\n",
        "          first_eq = input()\n",
        "          second_eq = input()\n",
        "          A = np.array([add_list(first_eq)[0], add_list(second_eq)[0]])\n",
        "          B = np.array([add_list(first_eq)[1], add_list(second_eq)[1]])\n",
        "\n",
        "          X = np.dot(np.linalg.inv(A), B)\n",
        "\n",
        "          print(f\"x = {X[0]:.2f}, y = {X[1]:.2f}\")\n",
        "\n",
        "      elif tipo_ecuaciones == 2:\n",
        "          print(\"-----------------\")\n",
        "          print(\"ejemplo eq. 3x3: \")\n",
        "          print(\"1x + 1y + 1z = 6\")\n",
        "          print(\"2x + 0y + 2z = 1\")\n",
        "          print(\"2x + 5y -1z = 2\")\n",
        "          print(\"-----------------\")\n",
        "          print(\"Es muy importante que no omita colocar el coeficiente cuando un termino esta siendo multiplicado por 1\")\n",
        "\n",
        "          print()\n",
        "          first_eq = input()\n",
        "          second_eq = input()\n",
        "          third_eq = input()\n",
        "\n",
        "          A = np.array([add_list(first_eq)[0], add_list(second_eq)[0], add_list(third_eq)[0]])\n",
        "          B = np.array([add_list(first_eq)[1], add_list(second_eq)[1], add_list(third_eq)[1]])\n",
        "\n",
        "          X = np.dot(np.linalg.inv(A), B)\n",
        "          print(f\"x = {X[0]:.2f}, y = {X[1]:.2f}, z = {X[2]:.2f}\")\n",
        "\n",
        "  except LinAlgError as e:\n",
        "      # Manejar la excepción LinAlgError (Singular matrix)\n",
        "      print(f\"Error: {e}\")"
      ]
    }
  ],
  "metadata": {
    "colab": {
      "provenance": [],
      "authorship_tag": "ABX9TyNAsgLUh4HLZgGMn0vX15P2",
      "include_colab_link": true
    },
    "kernelspec": {
      "display_name": "Python 3",
      "name": "python3"
    },
    "language_info": {
      "name": "python"
    }
  },
  "nbformat": 4,
  "nbformat_minor": 0
}
