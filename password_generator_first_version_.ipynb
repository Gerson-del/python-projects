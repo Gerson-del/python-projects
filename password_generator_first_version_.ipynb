{
  "nbformat": 4,
  "nbformat_minor": 0,
  "metadata": {
    "colab": {
      "provenance": [],
      "include_colab_link": true
    },
    "kernelspec": {
      "name": "python3",
      "display_name": "Python 3"
    },
    "language_info": {
      "name": "python"
    }
  },
  "cells": [
    {
      "cell_type": "markdown",
      "metadata": {
        "id": "view-in-github",
        "colab_type": "text"
      },
      "source": [
        "<a href=\"https://colab.research.google.com/github/Gerson-del/python-projects/blob/main/password_generator_first_version_.ipynb\" target=\"_parent\"><img src=\"https://colab.research.google.com/assets/colab-badge.svg\" alt=\"Open In Colab\"/></a>"
      ]
    },
    {
      "cell_type": "markdown",
      "source": [
        "Parte 1: La ecuacion"
      ],
      "metadata": {
        "id": "mCH0UPgp6QxR"
      }
    },
    {
      "cell_type": "markdown",
      "source": [
        "The generator is defined by the recurrence relation:\n",
        "$$\n",
        "X_{n+1}=\\left(a X_n+c\\right) \\bmod m\n",
        "$$\n",
        "\n",
        "where $X$ is the sequence of pseudo-random values, and $m, 0<m$-the \"modulus\"\n",
        "\n",
        "$a, 0<a<m$-the \"multiplier\"\n",
        "\n",
        "$c, 0 \\leq c<m$ the \"increment\"\n",
        "\n",
        "$X_0, 0 \\leq X_0<m$ the \"seed\" or \"start value\"\n",
        "\n",
        "\n"
      ],
      "metadata": {
        "id": "t_JdUlpP3bFd"
      }
    },
    {
      "cell_type": "markdown",
      "source": [
        "Parte 2: Revisar si la contraseña dada se encuentra en un documento con 10 mil contraseñas mas comunes"
      ],
      "metadata": {
        "id": "i_WgU9AlU9iz"
      }
    },
    {
      "cell_type": "code",
      "source": [
        "import time\n",
        "import os\n",
        "\n",
        "class Pseudo_random:\n",
        "\n",
        "  def __init__(self, a = 48271 , c = 0, m = 2**31-1, seed = None): # Los valores usados para a, c y m son ocupados en C++ minstd_rand\n",
        "    self.a = a\n",
        "    self.c = c\n",
        "    self.m = m\n",
        "\n",
        "    if seed is None:\n",
        "      self.x_0 = time.time() * 300 + os.getpid()  # Estamos sumando la ID del proceso y el tiempo que ha pasado desde epoch, ambos son numeros que cambiaran cada vez que corra el programa\n",
        "    else:\n",
        "      self.x_0 = seed  # Este es el valor inicial que se le da a X\n",
        "\n",
        "    self.x_prev = (self.a * self.x_0 + self.c) % self.m\n",
        "\n",
        "\n",
        "\n",
        "\n",
        "  def generate_number(self, num_range = None): # Num_range es una tupla, este te da entre que valores se encontrara tu numero random\n",
        "    self.x_prev = (self.a * self.x_prev + self.c) % self.m\n",
        "\n",
        "    if num_range is None: #Te genera un numero aleatorio de acuerdo a la semilla que se utilice\n",
        "      return self.x_prev\n",
        "\n",
        "    else: # Se obtiene un numero random b entre dos par de numeros [a,c] i.e a <= b <= c\n",
        "      return int((self.x_prev /(self.m-1))*(num_range[1] - num_range[0]) + num_range[0]) # ¿Esto por que funciona?\n",
        "\n",
        "\n",
        "def word_count(filename, listwords):\n",
        "  \"\"\"\n",
        "  Esta funcion revisa si cierta palabra se encuentra en un documento\n",
        "  \"\"\"\n",
        "  try:\n",
        "    file = open(filename, \"r\") # toma lo que tenemos en el documento y lo convierte a una lista\n",
        "    read = file.readlines()\n",
        "    file.close()\n",
        "\n",
        "    for word in listwords:\n",
        "      lower = word.lower() # cambia la palabra a minusculas\n",
        "      count = 0\n",
        "      for sentence in read:\n",
        "        line = sentence.split() # coloca las palabras en una lista ignorando los espacios en blanco\n",
        "        for each in line:\n",
        "          line2 = each.lower() #Nos aseguramos que cada palabra en el documento sea minuscula\n",
        "          if lower == line2:\n",
        "            count += 1\n",
        "\n",
        "    if count >= 1:\n",
        "      print(\"nota: Esta contraseña es muy comun, intenta generar otra \")\n",
        "\n",
        "  except FileNotFoundError:\n",
        "    print(\"El documento no existe\")\n",
        "\n",
        "\n",
        "import string\n",
        "\n",
        "lcg = Pseudo_random() #Llamamos a la funcion Pseudorandom\n",
        "letters = string.ascii_letters # Estas son las letras a la a la z, tanto mayusculas como minusculas\n",
        "numbers = string.digits # Numeros del 1 al 9\n",
        "symbols = string.punctuation # Caracteres especiales\n",
        "characters = \"\"\n",
        "\n",
        "\n",
        "security_level = input(\"Que tanta seguridad quieres Media (a), alta (b), Muy Alta (c): \").lower()\n",
        "password_length = int(input(\"Ingresa el tamaño de la contraseña (mas de 6 digitos): \"))\n",
        "\n",
        "for i in range(password_length):\n",
        "  if security_level == \"a\":\n",
        "    characters = characters + letters[lcg.generate_number([0,len(letters)])] #Encontramos un numero random entre 0 y el largo de la lista, luego obtenemos el index de ese numero\n",
        "  elif security_level == \"b\":\n",
        "    let_num = letters + numbers\n",
        "    characters = characters + let_num[lcg.generate_number([0,len(let_num)])]\n",
        "  elif security_level == \"c\":\n",
        "    all = letters + numbers + symbols\n",
        "    characters = characters + all[lcg.generate_number([0,len(all)])]\n",
        "\n",
        "\n",
        "\n",
        "\n",
        "print(f\"contraseña generada: {characters}\")\n",
        "\n",
        "word_count(\"common_p.txt\", [str(characters)])\n",
        "\n",
        "\n",
        "\n"
      ],
      "metadata": {
        "id": "md3CKuLJSwSU",
        "colab": {
          "base_uri": "https://localhost:8080/"
        },
        "outputId": "c4a908af-57b6-443c-fec5-d31ed2a4ecb3"
      },
      "execution_count": null,
      "outputs": [
        {
          "output_type": "stream",
          "name": "stdout",
          "text": [
            "Que tanta seguridad quieres Media (a), alta (b), Muy Alta (c): c\n",
            "Ingresa el tamaño de la contraseña (mas de 6 digitos): 6\n",
            "contraseña generada: -8]k\"8\n",
            "El documento no existe\n"
          ]
        }
      ]
    },
    {
      "cell_type": "code",
      "source": [],
      "metadata": {
        "id": "noR176my6ZUf"
      },
      "execution_count": null,
      "outputs": []
    }
  ]
}