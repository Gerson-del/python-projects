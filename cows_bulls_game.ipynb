{
  "nbformat": 4,
  "nbformat_minor": 0,
  "metadata": {
    "colab": {
      "provenance": [],
      "authorship_tag": "ABX9TyN5nsjvNuhXc2zWvmVzu/Be",
      "include_colab_link": true
    },
    "kernelspec": {
      "name": "python3",
      "display_name": "Python 3"
    },
    "language_info": {
      "name": "python"
    }
  },
  "cells": [
    {
      "cell_type": "markdown",
      "metadata": {
        "id": "view-in-github",
        "colab_type": "text"
      },
      "source": [
        "<a href=\"https://colab.research.google.com/github/Gerson-del/python-projects/blob/main/cows_bulls_game.ipynb\" target=\"_parent\"><img src=\"https://colab.research.google.com/assets/colab-badge.svg\" alt=\"Open In Colab\"/></a>"
      ]
    },
    {
      "cell_type": "code",
      "execution_count": 3,
      "metadata": {
        "colab": {
          "base_uri": "https://localhost:8080/",
          "height": 384
        },
        "id": "-4FtGPQg10KJ",
        "outputId": "ac008860-b5b0-472f-afd1-caef8b3828fa"
      },
      "outputs": [
        {
          "output_type": "stream",
          "name": "stdout",
          "text": [
            "Choose the difficulty: 1 (easy), 2 (medium), or 3 (hard): 1\n",
            "171\n"
          ]
        },
        {
          "output_type": "error",
          "ename": "error",
          "evalue": "ALSA: Couldn't open audio device: No such file or directory",
          "traceback": [
            "\u001b[0;31m---------------------------------------------------------------------------\u001b[0m",
            "\u001b[0;31merror\u001b[0m                                     Traceback (most recent call last)",
            "\u001b[0;32m<ipython-input-3-2c9bd91de575>\u001b[0m in \u001b[0;36m<cell line: 87>\u001b[0;34m()\u001b[0m\n\u001b[1;32m     90\u001b[0m         \u001b[0msecret_number\u001b[0m \u001b[0;34m=\u001b[0m \u001b[0mgenerate_random_number\u001b[0m\u001b[0;34m(\u001b[0m\u001b[0mdifficulty\u001b[0m\u001b[0;34m)\u001b[0m\u001b[0;34m\u001b[0m\u001b[0;34m\u001b[0m\u001b[0m\n\u001b[1;32m     91\u001b[0m         \u001b[0mprint\u001b[0m\u001b[0;34m(\u001b[0m\u001b[0msecret_number\u001b[0m\u001b[0;34m)\u001b[0m\u001b[0;34m\u001b[0m\u001b[0;34m\u001b[0m\u001b[0m\n\u001b[0;32m---> 92\u001b[0;31m         \u001b[0mcorrect_sound\u001b[0m\u001b[0;34m,\u001b[0m \u001b[0mwrong_sound\u001b[0m \u001b[0;34m=\u001b[0m \u001b[0minitialize_sound\u001b[0m\u001b[0;34m(\u001b[0m\u001b[0;34m)\u001b[0m\u001b[0;34m\u001b[0m\u001b[0;34m\u001b[0m\u001b[0m\n\u001b[0m\u001b[1;32m     93\u001b[0m         \u001b[0mplay_cows_bulls_game\u001b[0m\u001b[0;34m(\u001b[0m\u001b[0msecret_number\u001b[0m\u001b[0;34m,\u001b[0m \u001b[0mcorrect_sound\u001b[0m\u001b[0;34m,\u001b[0m \u001b[0mwrong_sound\u001b[0m\u001b[0;34m)\u001b[0m\u001b[0;34m\u001b[0m\u001b[0;34m\u001b[0m\u001b[0m\n\u001b[1;32m     94\u001b[0m     \u001b[0;32mexcept\u001b[0m \u001b[0mValueError\u001b[0m \u001b[0;32mas\u001b[0m \u001b[0me\u001b[0m\u001b[0;34m:\u001b[0m\u001b[0;34m\u001b[0m\u001b[0;34m\u001b[0m\u001b[0m\n",
            "\u001b[0;32m<ipython-input-3-2c9bd91de575>\u001b[0m in \u001b[0;36minitialize_sound\u001b[0;34m()\u001b[0m\n\u001b[1;32m      4\u001b[0m \u001b[0;34m\u001b[0m\u001b[0m\n\u001b[1;32m      5\u001b[0m \u001b[0;32mdef\u001b[0m \u001b[0minitialize_sound\u001b[0m\u001b[0;34m(\u001b[0m\u001b[0;34m)\u001b[0m\u001b[0;34m:\u001b[0m\u001b[0;34m\u001b[0m\u001b[0;34m\u001b[0m\u001b[0m\n\u001b[0;32m----> 6\u001b[0;31m     \u001b[0mpygame\u001b[0m\u001b[0;34m.\u001b[0m\u001b[0mmixer\u001b[0m\u001b[0;34m.\u001b[0m\u001b[0minit\u001b[0m\u001b[0;34m(\u001b[0m\u001b[0;34m)\u001b[0m\u001b[0;34m\u001b[0m\u001b[0;34m\u001b[0m\u001b[0m\n\u001b[0m\u001b[1;32m      7\u001b[0m     \u001b[0mcorrect_sound\u001b[0m \u001b[0;34m=\u001b[0m \u001b[0mpygame\u001b[0m\u001b[0;34m.\u001b[0m\u001b[0mmixer\u001b[0m\u001b[0;34m.\u001b[0m\u001b[0mSound\u001b[0m\u001b[0;34m(\u001b[0m\u001b[0;34m'correct_sound.wav'\u001b[0m\u001b[0;34m)\u001b[0m  \u001b[0;31m# Replace with the path to your sound file\u001b[0m\u001b[0;34m\u001b[0m\u001b[0;34m\u001b[0m\u001b[0m\n\u001b[1;32m      8\u001b[0m     \u001b[0mwrong_sound\u001b[0m \u001b[0;34m=\u001b[0m \u001b[0mpygame\u001b[0m\u001b[0;34m.\u001b[0m\u001b[0mmixer\u001b[0m\u001b[0;34m.\u001b[0m\u001b[0mSound\u001b[0m\u001b[0;34m(\u001b[0m\u001b[0;34m'wrong_sound.wav'\u001b[0m\u001b[0;34m)\u001b[0m  \u001b[0;31m# Replace with the path to your sound file\u001b[0m\u001b[0;34m\u001b[0m\u001b[0;34m\u001b[0m\u001b[0m\n",
            "\u001b[0;31merror\u001b[0m: ALSA: Couldn't open audio device: No such file or directory"
          ]
        }
      ],
      "source": [
        "import pygame\n",
        "import random\n",
        "import time\n",
        "\n",
        "def initialize_sound():\n",
        "    pygame.mixer.init()\n",
        "    correct_sound = pygame.mixer.Sound('correct_sound.wav')  # Replace with the path to your sound file\n",
        "    wrong_sound = pygame.mixer.Sound('wrong_sound.wav')  # Replace with the path to your sound file\n",
        "    return correct_sound, wrong_sound\n",
        "\n",
        "def play_sound(sound):\n",
        "    sound.play()\n",
        "\n",
        "\n",
        "\n",
        "def generate_random_number(difficulty):\n",
        "    if difficulty == 1:\n",
        "        return str(random.randint(100, 999))\n",
        "    elif difficulty == 2:\n",
        "        return str(random.randint(1000, 9999))\n",
        "    elif difficulty == 3:\n",
        "        return str(random.randint(10000, 99999))\n",
        "    else:\n",
        "        raise ValueError(\"Invalid difficulty level. Please choose 1, 2, or 3.\")\n",
        "\n",
        "def score_levels(attempts):\n",
        "  if attempts < 3:\n",
        "    print(\"You're an expert\")\n",
        "  elif 3 <= attempts <= 5:\n",
        "    print(\"You did great :))\")\n",
        "  elif 5 < attempts <= 8:\n",
        "    print(\"you could do better\")\n",
        "  else:\n",
        "    print(\"You're a begginer :c\")\n",
        "\n",
        "\n",
        "\n",
        "def play_cows_bulls_game(number, correct_sound, wrong_sound):\n",
        "    start_time = time.time()\n",
        "    attempts = 0\n",
        "\n",
        "    print(\"Welcome to the Cows and Bulls Game!\")\n",
        "    print(f\"Try to guess the {len(number)}-digit number.\")\n",
        "\n",
        "    while True:\n",
        "        cows = 0\n",
        "        bulls = 0\n",
        "        guess = input(\"Enter your guess: press q to quit: \")\n",
        "        if guess == \"q\":\n",
        "          print(\"Okay bye :))\")\n",
        "          break\n",
        "        if len(guess) != len(number) or not guess.isdigit():\n",
        "            print(\"Invalid input. Please enter a valid number.\")\n",
        "            continue\n",
        "\n",
        "        for i in range(len(guess)):\n",
        "            if guess[i] == number[i]:\n",
        "                cows += 1\n",
        "            elif guess[i] in number:\n",
        "                bulls += 1\n",
        "\n",
        "        print(f\"Cows: {cows}, Bulls: {bulls}\")\n",
        "        attempts += 1\n",
        "        if attempts % 5 == 0 and attempts != 0:\n",
        "          help = input(\"It seems like you're struggling a bit, do you want some help? (yes/no): \").lower()\n",
        "\n",
        "          if help == \"yes\":\n",
        "            print(f\"the first number is {number[0]}\")\n",
        "          else:\n",
        "            print(\"Okay :)) good luck\")\n",
        "\n",
        "        if guess == number:\n",
        "            time_now = time.time()\n",
        "            print(f\"Congratulations! You guessed the correct number in {attempts} attempts.\")\n",
        "            print(f\"It took you {int(time_now - start_time)} seconds to guess the number.\")\n",
        "            score_levels(attempts)\n",
        "            play_sound(correct_sound)\n",
        "            pygame.time.delay(3000)\n",
        "            break\n",
        "        else:\n",
        "            play_sound(wrong_sound)\n",
        "\n",
        "\n",
        "\n",
        "\n",
        "\n",
        "if __name__ == \"__main__\":\n",
        "    try:\n",
        "        difficulty = int(input(\"Choose the difficulty: 1 (easy), 2 (medium), or 3 (hard): \"))\n",
        "        secret_number = generate_random_number(difficulty)\n",
        "        print(secret_number)\n",
        "        correct_sound, wrong_sound = initialize_sound()\n",
        "        play_cows_bulls_game(secret_number, correct_sound, wrong_sound)\n",
        "    except ValueError as e:\n",
        "        print(f\"Error: {e}\")"
      ]
    },
    {
      "cell_type": "code",
      "source": [],
      "metadata": {
        "id": "nV_OEfI32FUB"
      },
      "execution_count": null,
      "outputs": []
    }
  ]
}