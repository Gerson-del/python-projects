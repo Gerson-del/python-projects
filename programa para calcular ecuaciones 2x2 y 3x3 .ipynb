{
  "nbformat": 4,
  "nbformat_minor": 0,
  "metadata": {
    "colab": {
      "provenance": [],
      "authorship_tag": "ABX9TyNxwBI0bLmYqENdFejJV7LG",
      "include_colab_link": true
    },
    "kernelspec": {
      "name": "python3",
      "display_name": "Python 3"
    },
    "language_info": {
      "name": "python"
    }
  },
  "cells": [
    {
      "cell_type": "markdown",
      "metadata": {
        "id": "view-in-github",
        "colab_type": "text"
      },
      "source": [
        "<a href=\"https://colab.research.google.com/github/Gerson-del/python-projects/blob/main/programa%20para%20calcular%20ecuaciones%202x2%20y%203x3%20.ipynb\" target=\"_parent\"><img src=\"https://colab.research.google.com/assets/colab-badge.svg\" alt=\"Open In Colab\"/></a>"
      ]
    },
    {
      "cell_type": "code",
      "execution_count": null,
      "metadata": {
        "id": "ZAZodbbIK3ws"
      },
      "outputs": [],
      "source": [
        "# 2 x 2 solution\n",
        "import numpy as np\n",
        "\n",
        "\n",
        "#Let's create a fuction that \"takes the coeficients and individual values out\"\n",
        "def add_list(eq):\n",
        "  list_separated = eq.split(\"=\")\n",
        "  for i, side in enumerate(list_separated):\n",
        "    if side == list_separated[-1]:\n",
        "      ind_values = [int(side)]\n",
        "    else:\n",
        "      side = side.replace(\"-\",\"+ -\")\n",
        "      list_unfiltered = side.split(\"+\")\n",
        "      values = [int(\"\".join(c for c in item if c.isdigit() or c == \"-\") or 0 ) for item in list_unfiltered]\n",
        "  return values,ind_values\n",
        "\n",
        "# x + y + z   =  6\n",
        "# 2x + 5z     = -4\n",
        "# 2x + 5y - z = 27\n",
        "\n",
        "#First let's solve 2 x 2 equations\n",
        "\n",
        "first_eq = \"3x + 2y = -1\"\n",
        "second_eq = \"1x - 1y = -4\"\n",
        "\n",
        "\n",
        "A = np.array([add_list(first_eq)[0],add_list(second_eq)[0]])\n",
        "B = np.array([add_list(first_eq)[1],add_list(second_eq)[1]])\n",
        "\n",
        "print(add_list(second_eq)[1])\n",
        "\n",
        "X = np.dot(np.linalg.inv(A),B)\n",
        "\n",
        "print(f\"x = {X[0]}, y = {X[1]}\")"
      ]
    },
    {
      "cell_type": "code",
      "source": [
        "# 2 x 2 and 3 x 3 solutions\n",
        "# No se pueden meter numeros negativos pro ejemplo 2x + 5y - z = 27 no funciona\n",
        "import numpy as np\n",
        "\n",
        "#first we need to replace all \"+\"symbols with \"+ -\" so our program can support negative numbers:\n",
        "\n",
        "\n",
        "\n",
        "#Let's create a fuction that \"takes the coeficients and individual values out\"\n",
        "def add_list(eq):\n",
        "  list_separated = eq.split(\"=\")\n",
        "  for i, side in enumerate(list_separated):\n",
        "    if side == list_separated[-1]:\n",
        "      ind_values = [int(side)]\n",
        "    else:\n",
        "      side = side.replace(\"-\",\"+ -\")\n",
        "      list_unfiltered = side.split(\"+\")\n",
        "      values = [int(\"\".join(c for c in item if c.isdigit() or c == \"-\") or 0 ) for item in list_unfiltered]\n",
        "  return values,ind_values\n",
        "\n",
        "#first_eq =  \"1x + 1y + 1z = 6\"\n",
        "#second_eq = \"2x + 0y + 2z = 1\"\n",
        "#third_eq =  \"2x + 5y -1z = 2\"\n",
        "\n",
        "#let's solve 3 x 3 equations\n",
        "\n",
        "first_eq =  \"1x + 1y + 1z = 6\"\n",
        "second_eq = \"2x + 0y + 2z = 1\"\n",
        "third_eq =  \"2x + 5y -1z = 2\"\n",
        "\n",
        "add_list(third_eq)\n",
        "\n",
        "\n",
        "A = np.array([add_list(first_eq)[0],add_list(second_eq)[0],add_list(third_eq)[0]])\n",
        "B = np.array([add_list(first_eq)[1],add_list(second_eq)[1],add_list(third_eq)[1]])\n",
        "\n",
        "X = np.dot(np.linalg.inv(A),B)\n",
        "print(f\"x = {X[0]}, y = {X[1]}, z = {X[2]}\")\n",
        "\n",
        "#El problema es que no acepta las ecuaciones en donde no se especifica que se multiplica por cero como:\n",
        "\n",
        "#first_eq =  \"1x + 1y + 1z = 6\"\n",
        "#second_eq = \"2x + 2z = 1\"\n",
        "#third_eq =  \"2x + 5y -1z = 2\"\n",
        "\n",
        "#La segunda ecuacion nos da problema porque second_eq = \"2x + 2z = 1\", y no mostramos y explicitamente\n",
        "#solo funciona cuando metemos la ecuacion como  second_eq = \"2x + 0y + 2z = 1\"\n",
        "\n"
      ],
      "metadata": {
        "id": "URYYhWG7K545"
      },
      "execution_count": null,
      "outputs": []
    }
  ]
}