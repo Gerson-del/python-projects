{
  "nbformat": 4,
  "nbformat_minor": 0,
  "metadata": {
    "colab": {
      "provenance": [],
      "authorship_tag": "ABX9TyNDCrCocbI7ztGJFT0S4ue4",
      "include_colab_link": true
    },
    "kernelspec": {
      "name": "python3",
      "display_name": "Python 3"
    },
    "language_info": {
      "name": "python"
    }
  },
  "cells": [
    {
      "cell_type": "markdown",
      "metadata": {
        "id": "view-in-github",
        "colab_type": "text"
      },
      "source": [
        "<a href=\"https://colab.research.google.com/github/Gerson-del/python-projects/blob/main/password_generator.ipynb\" target=\"_parent\"><img src=\"https://colab.research.google.com/assets/colab-badge.svg\" alt=\"Open In Colab\"/></a>"
      ]
    },
    {
      "cell_type": "code",
      "execution_count": null,
      "metadata": {
        "id": "GnzYPiD4skMe"
      },
      "outputs": [],
      "source": [
        "#Better version\n",
        "\n",
        "import random\n",
        "import string\n",
        "\n",
        "def generate_password(num_digits, complexity_level):\n",
        "    letters = string.ascii_letters\n",
        "    digits = string.digits\n",
        "    special = string.punctuation\n",
        "\n",
        "    visually_similar = {'l', '1', 'I', '0', 'O'}\n",
        "\n",
        "    for i in range(num_digits):\n",
        "        if complexity_level == 1:\n",
        "            characters = letters\n",
        "        elif complexity_level == 2:\n",
        "            characters = set(letters + digits) - visually_similar\n",
        "        elif complexity_level == 3:\n",
        "            characters = set(letters + digits + special) - visually_similar\n",
        "\n",
        "    password = \"\".join(random.choice(list(characters)) for _ in range(num_digits))\n",
        "    return password\n",
        "\n",
        "def get_user_input():\n",
        "    num_digits = int(input(\"How many digits do you want your password to have: \"))\n",
        "    complexity_level = int(input(\"Choose password complexity: weak(1), medium(2), or strong(3): \"))\n",
        "    return num_digits, complexity_level\n",
        "\n",
        "def save_to_file(file_path, password):\n",
        "    with open(file_path, \"a\") as file:\n",
        "        file.write(f\"password: {password}\\n\")\n",
        "\n",
        "def main():\n",
        "    num_digits, complexity_level = get_user_input()\n",
        "    generated_password = generate_password(num_digits, complexity_level)\n",
        "    return generated_password\n",
        "\n",
        "password_history = [] # Here we will store the passwords :)\n",
        "\n",
        "while True:\n",
        "  preferences = input(\"What do you want to do? (1) Add a new password, (2) Check password history (3) quit: \")\n",
        "\n",
        "\n",
        "  if preferences == \"1\":\n",
        "      file_path = input(\"Enter the file path to save passwords (or press Enter for default 'passwords.txt'): \")\n",
        "\n",
        "      if not file_path:\n",
        "          file_path = \"passwords.txt\"\n",
        "\n",
        "      password_to_save = main()\n",
        "      password_history.append(password_to_save)  # Append the generated password to the history\n",
        "      save_to_file(file_path, password_to_save)  # Save the password to a file\n",
        "\n",
        "  elif preferences == \"2\":\n",
        "      print(\"Password History:\")\n",
        "      for i, password in enumerate(password_history, start=1):\n",
        "          print(f\"{i}. {password}\")  # Display password history with user-friendly numbering\n",
        "\n",
        "  elif preferences == \"3\":\n",
        "    break\n",
        "\n",
        "  if len(password_history) > 5:\n",
        "      password_history.pop(0)  # Keep password history limited to 5 entries\n",
        "\n"
      ]
    }
  ]
}