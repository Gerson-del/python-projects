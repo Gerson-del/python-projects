{
  "nbformat": 4,
  "nbformat_minor": 0,
  "metadata": {
    "colab": {
      "provenance": [],
      "authorship_tag": "ABX9TyMTk3MQrz3vIqjD+F20sO1P",
      "include_colab_link": true
    },
    "kernelspec": {
      "name": "python3",
      "display_name": "Python 3"
    },
    "language_info": {
      "name": "python"
    }
  },
  "cells": [
    {
      "cell_type": "markdown",
      "metadata": {
        "id": "view-in-github",
        "colab_type": "text"
      },
      "source": [
        "<a href=\"https://colab.research.google.com/github/Gerson-del/python-projects/blob/main/Numerical_Methods.ipynb\" target=\"_parent\"><img src=\"https://colab.research.google.com/assets/colab-badge.svg\" alt=\"Open In Colab\"/></a>"
      ]
    },
    {
      "cell_type": "code",
      "source": [
        "#Newton- Raphson method\n",
        "import sympy as sp\n",
        "\n",
        "x = sp.symbols('x')\n",
        "\n",
        "def newton_raphson_sqrt(f,initial_guess, tolerance):\n",
        "  f = sp.sympify(f)\n",
        "\n",
        "  f_prime = sp.diff(f, x)\n",
        "  x_n = initial_guess\n",
        "\n",
        "  while True:\n",
        "\n",
        "    f_val = f.subs(x, x_n)\n",
        "    f_prime_val = f_prime.subs(x, x_n)\n",
        "    x_n = x_n - f_val / f_prime_val\n",
        "\n",
        "    if abs(f_val) < tolerance:\n",
        "        break\n",
        "\n",
        "  return x_n\n",
        "\n",
        "# Example: Finding the square root of 2\n",
        "result = newton_raphson_sqrt(x**2 - 2, 1.0, 1e-6)\n",
        "print(result)\n"
      ],
      "metadata": {
        "colab": {
          "base_uri": "https://localhost:8080/"
        },
        "id": "SXmuMe5USqsu",
        "outputId": "fc2253f3-b664-43dd-d79b-946bb3bfc1cc"
      },
      "execution_count": null,
      "outputs": [
        {
          "output_type": "stream",
          "name": "stdout",
          "text": [
            "1.41421356237310\n"
          ]
        }
      ]
    },
    {
      "cell_type": "code",
      "source": [
        "#Bisection method\n",
        "\n",
        "import sympy as sp\n",
        "\n",
        "x = sp.symbols('x')\n",
        "\n",
        "def get_interval():\n",
        "\n",
        "  try:\n",
        "    interval = input(\"Specify an interval: eg. [2,4]: \")\n",
        "    interval = interval[1:-1].split(\",\")\n",
        "\n",
        "    a, b = map(float, interval)\n",
        "    return a, b\n",
        "  except ValueError:\n",
        "    print(\"Invalid interval format. Please use [a, b].\")\n",
        "    return get_interval()\n",
        "\n",
        "\n",
        "def bisection(f, a, b, tolerance, max_iterations):\n",
        "\n",
        "    f = sp.sympify(f)\n",
        "\n",
        "    for iteration in range(max_iterations):\n",
        "        c = (a + b) / 2\n",
        "\n",
        "        f_c = f.subs(x, c)\n",
        "        f_a = f.subs(x, a)\n",
        "        f_b = f.subs(x, b)\n",
        "\n",
        "        print(f\"Iteration {iteration + 1}: a = {a}, b = {b}, c = {c}, f(c) = {f_c}\")\n",
        "\n",
        "        if c - a < tolerance:\n",
        "            print(\"Converged within tolerance.\")\n",
        "            return c\n",
        "\n",
        "        if f_a * f_c < 0:\n",
        "            b = c\n",
        "        else:\n",
        "            a = c\n",
        "\n",
        "    print(\"Maximum iterations reached. Result may not be accurate.\")\n",
        "    return c\n",
        "\n",
        "a, b = get_interval()\n",
        "\n",
        "result = bisection(x**2 - 2, a, b, 1e-6, 100)\n",
        "print(\"Final result:\", result)\n"
      ],
      "metadata": {
        "id": "yXwcsVZCVZzZ",
        "colab": {
          "base_uri": "https://localhost:8080/"
        },
        "outputId": "428d7d39-1b85-493c-c894-c48bd7038c0d"
      },
      "execution_count": null,
      "outputs": [
        {
          "output_type": "stream",
          "name": "stdout",
          "text": [
            "Specify an interval: eg. [2,4]: [1,1.5]\n",
            "Iteration 1: a = 1.0, b = 1.5, c = 1.25, f(c) = -0.437500000000000\n",
            "Iteration 2: a = 1.25, b = 1.5, c = 1.375, f(c) = -0.109375000000000\n",
            "Iteration 3: a = 1.375, b = 1.5, c = 1.4375, f(c) = 0.0664062500000000\n",
            "Iteration 4: a = 1.375, b = 1.4375, c = 1.40625, f(c) = -0.0224609375000000\n",
            "Iteration 5: a = 1.40625, b = 1.4375, c = 1.421875, f(c) = 0.0217285156250000\n",
            "Iteration 6: a = 1.40625, b = 1.421875, c = 1.4140625, f(c) = -0.000427246093750000\n",
            "Iteration 7: a = 1.4140625, b = 1.421875, c = 1.41796875, f(c) = 0.0106353759765625\n",
            "Iteration 8: a = 1.4140625, b = 1.41796875, c = 1.416015625, f(c) = 0.00510025024414063\n",
            "Iteration 9: a = 1.4140625, b = 1.416015625, c = 1.4150390625, f(c) = 0.00233554840087891\n",
            "Iteration 10: a = 1.4140625, b = 1.4150390625, c = 1.41455078125, f(c) = 0.000953912734985352\n",
            "Iteration 11: a = 1.4140625, b = 1.41455078125, c = 1.414306640625, f(c) = 0.000263273715972900\n",
            "Iteration 12: a = 1.4140625, b = 1.414306640625, c = 1.4141845703125, f(c) = -0.0000820010900497437\n",
            "Iteration 13: a = 1.4141845703125, b = 1.414306640625, c = 1.41424560546875, f(c) = 0.0000906325876712799\n",
            "Iteration 14: a = 1.4141845703125, b = 1.41424560546875, c = 1.414215087890625, f(c) = 0.00000431481748819351\n",
            "Iteration 15: a = 1.4141845703125, b = 1.414215087890625, c = 1.4141998291015625, f(c) = -0.0000388433691114187\n",
            "Iteration 16: a = 1.4141998291015625, b = 1.414215087890625, c = 1.4142074584960938, f(c) = -0.0000172643340192735\n",
            "Iteration 17: a = 1.4142074584960938, b = 1.414215087890625, c = 1.4142112731933594, f(c) = -0.00000647477281745523\n",
            "Iteration 18: a = 1.4142112731933594, b = 1.414215087890625, c = 1.4142131805419922, f(c) = -0.00000107998130260967\n",
            "Iteration 19: a = 1.4142131805419922, b = 1.414215087890625, c = 1.4142141342163086, f(c) = 0.00000161741718329722\n",
            "Converged within tolerance.\n",
            "Final result: 1.4142141342163086\n"
          ]
        }
      ]
    },
    {
      "cell_type": "code",
      "source": [
        "#Fixed point method\n",
        "\n",
        "import sympy as sp\n",
        "\n",
        "x = sp.symbols('x')\n",
        "\n",
        "def fixed_point_iteration(g, initial_guess, tolerance, max_iterations):\n",
        "    x_n = initial_guess\n",
        "\n",
        "    for iteration in range(max_iterations):\n",
        "        x_n1 = g(x_n)\n",
        "\n",
        "        print(f\"Iteration {iteration + 1}: x_{iteration + 1} = {x_n1}\")\n",
        "\n",
        "        if abs(x_n1 - x_n) < tolerance:\n",
        "            print(\"Converged within tolerance.\")\n",
        "            return x_n1\n",
        "\n",
        "        x_n = x_n1\n",
        "\n",
        "    print(\"Maximum iterations reached. Result may not be accurate.\")\n",
        "    return x_n\n",
        "\n",
        "# Example: Finding the square root of 2 as a fixed point of the function g(x) = 0.5 * (x + 2/x)\n",
        "result = fixed_point_iteration(lambda x: 3/( x-2 ), initial_guess=4, tolerance=1e-6, max_iterations=100)\n",
        "print(\"Final result:\", result)\n",
        "\n"
      ],
      "metadata": {
        "colab": {
          "base_uri": "https://localhost:8080/"
        },
        "id": "C2gt7Oh5VCA8",
        "outputId": "b9d5ddb3-10c1-4061-e4cb-1a575795666b"
      },
      "execution_count": null,
      "outputs": [
        {
          "output_type": "stream",
          "name": "stdout",
          "text": [
            "Iteration 1: x_1 = 1.5\n",
            "Iteration 2: x_2 = -6.0\n",
            "Iteration 3: x_3 = -0.375\n",
            "Iteration 4: x_4 = -1.263157894736842\n",
            "Iteration 5: x_5 = -0.9193548387096775\n",
            "Iteration 6: x_6 = -1.0276243093922652\n",
            "Iteration 7: x_7 = -0.9908759124087592\n",
            "Iteration 8: x_8 = -1.0030506406345332\n",
            "Iteration 9: x_9 = -0.9989841527834215\n",
            "Iteration 10: x_10 = -1.0003387304383171\n",
            "Iteration 11: x_11 = -0.9998871026011561\n",
            "Iteration 12: x_12 = -1.000037633882537\n",
            "Iteration 13: x_13 = -0.9999874555298534\n",
            "Iteration 14: x_14 = -1.0000041815075338\n",
            "Iteration 15: x_15 = -0.9999986061660981\n",
            "Iteration 16: x_16 = -1.0000004646115164\n",
            "Iteration 17: x_17 = -0.9999998451295186\n",
            "Converged within tolerance.\n",
            "Final result: -0.9999998451295186\n"
          ]
        }
      ]
    },
    {
      "cell_type": "code",
      "source": [
        "#Fixed point method\n",
        "\n",
        "import sympy as sp\n",
        "\n",
        "x = sp.symbols('x')\n",
        "\n",
        "def fixed_point_iteration(g, initial_guess, tolerance, max_iterations):\n",
        "  x_n = initial_guess\n",
        "\n",
        "  for iteration in range(max_iterations):\n",
        "    x_n1 = g(x_n)\n",
        "\n",
        "    print(f\" iteration {iteration + 1} : x_{iteration + 1} = {x_n1}\")\n",
        "\n",
        "    if abs(x_n1 - x_n) < tolerance:\n",
        "      print(\"Converged within tolerance.\")\n",
        "      return x_n1\n",
        "\n",
        "    x_n = x_n1\n",
        "\n",
        "  print(\"Maximum iterations reached. Result may not be accurate.\")\n",
        "  return x_n\n",
        "\n",
        "# Example: Finding the square root of 2 as a fixed point of the function g(x) = 0.5 * (x + 2/x)\n",
        "result = fixed_point_iteration(lambda x: 3/( x-2 ), initial_guess=4, tolerance=1e-6, max_iterations=100)\n",
        "print(\"Final result:\", result)\n"
      ],
      "metadata": {
        "colab": {
          "base_uri": "https://localhost:8080/"
        },
        "id": "GSBlq1ANL4YM",
        "outputId": "44bd9a0f-0c81-4c2c-9247-0027d9cb3c79"
      },
      "execution_count": null,
      "outputs": [
        {
          "output_type": "stream",
          "name": "stdout",
          "text": [
            " iteration 1 : x_1 = 1.5\n",
            " iteration 2 : x_2 = -6.0\n",
            " iteration 3 : x_3 = -0.375\n",
            " iteration 4 : x_4 = -1.263157894736842\n",
            " iteration 5 : x_5 = -0.9193548387096775\n",
            " iteration 6 : x_6 = -1.0276243093922652\n",
            " iteration 7 : x_7 = -0.9908759124087592\n",
            " iteration 8 : x_8 = -1.0030506406345332\n",
            " iteration 9 : x_9 = -0.9989841527834215\n",
            " iteration 10 : x_10 = -1.0003387304383171\n",
            " iteration 11 : x_11 = -0.9998871026011561\n",
            " iteration 12 : x_12 = -1.000037633882537\n",
            " iteration 13 : x_13 = -0.9999874555298534\n",
            " iteration 14 : x_14 = -1.0000041815075338\n",
            " iteration 15 : x_15 = -0.9999986061660981\n",
            " iteration 16 : x_16 = -1.0000004646115164\n",
            " iteration 17 : x_17 = -0.9999998451295186\n",
            "Converged within tolerance.\n",
            "Final result: -0.9999998451295186\n"
          ]
        }
      ]
    },
    {
      "cell_type": "code",
      "source": [],
      "metadata": {
        "id": "wMfLpH7qfjtS"
      },
      "execution_count": null,
      "outputs": []
    }
  ]
}